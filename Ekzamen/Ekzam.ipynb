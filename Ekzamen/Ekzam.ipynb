my_names = ["Віталій","Тарас","Андрій"]
for name in my_names:
    print(f"Ім'я {name} має довжину {len(name)}")
